{
 "cells": [
  {
   "cell_type": "markdown",
   "id": "03d11577",
   "metadata": {},
   "source": [
    "# Google Colab: Tips & Tricks"
   ]
  },
  {
   "cell_type": "markdown",
   "id": "d9fe81d1",
   "metadata": {},
   "source": [
    "## 1. Aprire un Notebook Vuoto o da GitHub"
   ]
  },
  {
   "cell_type": "markdown",
   "id": "36fa6825",
   "metadata": {},
   "source": [
    "\n",
    "- **Scratchpad Notebook**: [Apri un nuovo notebook vuoto](https://colab.research.google.com/notebooks/empty.ipynb)\n",
    "- **Aprire da GitHub**: basta sostituire `github.com` con `githubtocolab.com` nell'URL di un repository GitHub e si verrà reindirizzati su Colab.\n",
    "    "
   ]
  },
  {
   "cell_type": "markdown",
   "id": "d2ee85f2",
   "metadata": {},
   "source": [
    "## 2. Timing dell'Esecuzione di una Cella"
   ]
  },
  {
   "cell_type": "markdown",
   "id": "58cf5a5c",
   "metadata": {},
   "source": [
    "\n",
    "- Per vedere il tempo di esecuzione di una cella, **passa il mouse sopra l'icona di esecuzione**.\n",
    "    "
   ]
  },
  {
   "cell_type": "markdown",
   "id": "c93a07c3",
   "metadata": {},
   "source": [
    "## 3. Eseguire Parte di una Cella"
   ]
  },
  {
   "cell_type": "markdown",
   "id": "67c0f874",
   "metadata": {},
   "source": [
    "\n",
    "- Seleziona una parte del codice e premi **Ctrl + Shift + Invio** per eseguire solo quella selezione.\n",
    "- Oppure vai su **Runtime → Run Selection**.\n",
    "    "
   ]
  },
  {
   "cell_type": "markdown",
   "id": "4d4935c4",
   "metadata": {},
   "source": [
    "## 4. Scorciatoie da Tastiera Utili"
   ]
  },
  {
   "cell_type": "markdown",
   "id": "ccb765c7",
   "metadata": {},
   "source": [
    "\n",
    "### **Esecuzione delle Celle**\n",
    "- **Esegui cella** → `Ctrl + Invio`\n",
    "- **Esegui cella e aggiungi una nuova cella** → `Alt + Invio`\n",
    "- **Esegui cella e vai alla successiva** → `Shift + Invio`\n",
    "\n",
    "### **Gestione delle Celle**\n",
    "- **Commenta la riga corrente** → `Ctrl + /`\n",
    "- **Aggiungi una cella sopra** → `Ctrl + M + A`\n",
    "- **Aggiungi una cella sotto** → `Ctrl + M + B`\n",
    "- **Trasforma in cella codice** → `Ctrl + M + Y`\n",
    "- **Trasforma in cella Markdown** → `Ctrl + M + M`\n",
    "\n",
    "### **Navigazione Rapida**\n",
    "- **Vai alla definizione di una classe** → `Ctrl + Clic su una classe`\n",
    "    "
   ]
  },
  {
   "cell_type": "markdown",
   "id": "f839db5f",
   "metadata": {},
   "source": [
    "## 5. Eseguire Comandi Bash"
   ]
  },
  {
   "cell_type": "code",
   "execution_count": null,
   "id": "580a3b49",
   "metadata": {},
   "outputs": [],
   "source": [
    "\n",
    "# Scaricare un dataset\n",
    "!wget https://example.com/dataset.csv\n",
    "\n",
    "# Installare librerie\n",
    "!pip install numpy\n",
    "\n",
    "# Clonare un repository GitHub\n",
    "!git clone https://github.com/utente/repo.git\n",
    "\n",
    "# Cambiare directory\n",
    "!cd /content/repo\n",
    "    "
   ]
  },
  {
   "cell_type": "markdown",
   "id": "6b6d7fa2",
   "metadata": {},
   "source": [
    "## 6. Montare Google Drive"
   ]
  },
  {
   "cell_type": "code",
   "execution_count": null,
   "id": "2f59c6a1",
   "metadata": {},
   "outputs": [],
   "source": [
    "\n",
    "from google.colab import drive\n",
    "drive.mount('/content/gdrive')\n",
    "    "
   ]
  },
  {
   "cell_type": "markdown",
   "id": "5b408c2b",
   "metadata": {},
   "source": [
    "## 7. Caricare e Scaricare File"
   ]
  },
  {
   "cell_type": "code",
   "execution_count": null,
   "id": "eb311809",
   "metadata": {},
   "outputs": [],
   "source": [
    "\n",
    "# Caricare file dal computer locale\n",
    "from google.colab import files\n",
    "files.upload()\n",
    "    "
   ]
  },
  {
   "cell_type": "code",
   "execution_count": null,
   "id": "4522c288",
   "metadata": {},
   "outputs": [],
   "source": [
    "\n",
    "# Scaricare un file dal notebook\n",
    "from google.colab import files\n",
    "files.download('path/to/your/file')\n",
    "    "
   ]
  }
 ],
 "metadata": {},
 "nbformat": 4,
 "nbformat_minor": 5
}
